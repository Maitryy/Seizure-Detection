{
  "nbformat": 4,
  "nbformat_minor": 0,
  "metadata": {
    "kernelspec": {
      "display_name": "Python 3",
      "language": "python",
      "name": "python3"
    },
    "language_info": {
      "codemirror_mode": {
        "name": "ipython",
        "version": 3
      },
      "file_extension": ".py",
      "mimetype": "text/x-python",
      "name": "python",
      "nbconvert_exporter": "python",
      "pygments_lexer": "ipython3",
      "version": "3.7.1"
    },
    "colab": {
      "name": "Best_on_Ann.ipynb",
      "provenance": []
    }
  },
  "cells": [
    {
      "cell_type": "markdown",
      "metadata": {
        "id": "Zjl3wp9DUqrM"
      },
      "source": [
        "# Epileptic seizure detection from EEG signals using Deep Learning\n",
        "  \n",
        "  "
      ]
    },
    {
      "cell_type": "code",
      "metadata": {
        "id": "vcKx8ocQUqrU"
      },
      "source": [
        "import tensorflow as tf\n",
        "import numpy as np\n",
        "from keras.models import Sequential\n",
        "from keras.utils import np_utils\n",
        "from keras.layers import Dense, Activation\n",
        "import pandas as pd\n",
        "\n",
        "import matplotlib.pyplot as plt"
      ],
      "execution_count": null,
      "outputs": []
    },
    {
      "cell_type": "markdown",
      "metadata": {
        "id": "0CuEgGTxUqrY"
      },
      "source": [
        "# Data Preprocessing"
      ]
    },
    {
      "cell_type": "code",
      "metadata": {
        "id": "VM3K30M_UqrZ",
        "colab": {
          "base_uri": "https://localhost:8080/",
          "height": 273
        },
        "outputId": "e3b795fd-b9d6-413b-f2ea-f893953db12e"
      },
      "source": [
        "df=pd.read_csv('data.csv')\n",
        "df.head()"
      ],
      "execution_count": null,
      "outputs": [
        {
          "output_type": "execute_result",
          "data": {
            "text/html": [
              "<div>\n",
              "<style scoped>\n",
              "    .dataframe tbody tr th:only-of-type {\n",
              "        vertical-align: middle;\n",
              "    }\n",
              "\n",
              "    .dataframe tbody tr th {\n",
              "        vertical-align: top;\n",
              "    }\n",
              "\n",
              "    .dataframe thead th {\n",
              "        text-align: right;\n",
              "    }\n",
              "</style>\n",
              "<table border=\"1\" class=\"dataframe\">\n",
              "  <thead>\n",
              "    <tr style=\"text-align: right;\">\n",
              "      <th></th>\n",
              "      <th>Unnamed: 0</th>\n",
              "      <th>X1</th>\n",
              "      <th>X2</th>\n",
              "      <th>X3</th>\n",
              "      <th>X4</th>\n",
              "      <th>X5</th>\n",
              "      <th>X6</th>\n",
              "      <th>X7</th>\n",
              "      <th>X8</th>\n",
              "      <th>X9</th>\n",
              "      <th>X10</th>\n",
              "      <th>X11</th>\n",
              "      <th>X12</th>\n",
              "      <th>X13</th>\n",
              "      <th>X14</th>\n",
              "      <th>X15</th>\n",
              "      <th>X16</th>\n",
              "      <th>X17</th>\n",
              "      <th>X18</th>\n",
              "      <th>X19</th>\n",
              "      <th>X20</th>\n",
              "      <th>X21</th>\n",
              "      <th>X22</th>\n",
              "      <th>X23</th>\n",
              "      <th>X24</th>\n",
              "      <th>X25</th>\n",
              "      <th>X26</th>\n",
              "      <th>X27</th>\n",
              "      <th>X28</th>\n",
              "      <th>X29</th>\n",
              "      <th>X30</th>\n",
              "      <th>X31</th>\n",
              "      <th>X32</th>\n",
              "      <th>X33</th>\n",
              "      <th>X34</th>\n",
              "      <th>X35</th>\n",
              "      <th>X36</th>\n",
              "      <th>X37</th>\n",
              "      <th>X38</th>\n",
              "      <th>X39</th>\n",
              "      <th>...</th>\n",
              "      <th>X140</th>\n",
              "      <th>X141</th>\n",
              "      <th>X142</th>\n",
              "      <th>X143</th>\n",
              "      <th>X144</th>\n",
              "      <th>X145</th>\n",
              "      <th>X146</th>\n",
              "      <th>X147</th>\n",
              "      <th>X148</th>\n",
              "      <th>X149</th>\n",
              "      <th>X150</th>\n",
              "      <th>X151</th>\n",
              "      <th>X152</th>\n",
              "      <th>X153</th>\n",
              "      <th>X154</th>\n",
              "      <th>X155</th>\n",
              "      <th>X156</th>\n",
              "      <th>X157</th>\n",
              "      <th>X158</th>\n",
              "      <th>X159</th>\n",
              "      <th>X160</th>\n",
              "      <th>X161</th>\n",
              "      <th>X162</th>\n",
              "      <th>X163</th>\n",
              "      <th>X164</th>\n",
              "      <th>X165</th>\n",
              "      <th>X166</th>\n",
              "      <th>X167</th>\n",
              "      <th>X168</th>\n",
              "      <th>X169</th>\n",
              "      <th>X170</th>\n",
              "      <th>X171</th>\n",
              "      <th>X172</th>\n",
              "      <th>X173</th>\n",
              "      <th>X174</th>\n",
              "      <th>X175</th>\n",
              "      <th>X176</th>\n",
              "      <th>X177</th>\n",
              "      <th>X178</th>\n",
              "      <th>y</th>\n",
              "    </tr>\n",
              "  </thead>\n",
              "  <tbody>\n",
              "    <tr>\n",
              "      <th>0</th>\n",
              "      <td>X21.V1.791</td>\n",
              "      <td>135</td>\n",
              "      <td>190</td>\n",
              "      <td>229</td>\n",
              "      <td>223</td>\n",
              "      <td>192</td>\n",
              "      <td>125</td>\n",
              "      <td>55</td>\n",
              "      <td>-9</td>\n",
              "      <td>-33</td>\n",
              "      <td>-38</td>\n",
              "      <td>-10</td>\n",
              "      <td>35</td>\n",
              "      <td>64</td>\n",
              "      <td>113</td>\n",
              "      <td>152</td>\n",
              "      <td>164</td>\n",
              "      <td>127</td>\n",
              "      <td>50</td>\n",
              "      <td>-47</td>\n",
              "      <td>-121</td>\n",
              "      <td>-138</td>\n",
              "      <td>-125</td>\n",
              "      <td>-101</td>\n",
              "      <td>-50</td>\n",
              "      <td>11</td>\n",
              "      <td>39</td>\n",
              "      <td>24</td>\n",
              "      <td>48</td>\n",
              "      <td>64</td>\n",
              "      <td>46</td>\n",
              "      <td>13</td>\n",
              "      <td>-19</td>\n",
              "      <td>-61</td>\n",
              "      <td>-96</td>\n",
              "      <td>-130</td>\n",
              "      <td>-132</td>\n",
              "      <td>-116</td>\n",
              "      <td>-115</td>\n",
              "      <td>-71</td>\n",
              "      <td>...</td>\n",
              "      <td>54</td>\n",
              "      <td>90</td>\n",
              "      <td>111</td>\n",
              "      <td>107</td>\n",
              "      <td>64</td>\n",
              "      <td>32</td>\n",
              "      <td>18</td>\n",
              "      <td>-25</td>\n",
              "      <td>-69</td>\n",
              "      <td>-65</td>\n",
              "      <td>-44</td>\n",
              "      <td>-33</td>\n",
              "      <td>-57</td>\n",
              "      <td>-88</td>\n",
              "      <td>-114</td>\n",
              "      <td>-130</td>\n",
              "      <td>-114</td>\n",
              "      <td>-83</td>\n",
              "      <td>-53</td>\n",
              "      <td>-79</td>\n",
              "      <td>-72</td>\n",
              "      <td>-85</td>\n",
              "      <td>-109</td>\n",
              "      <td>-98</td>\n",
              "      <td>-72</td>\n",
              "      <td>-65</td>\n",
              "      <td>-63</td>\n",
              "      <td>-11</td>\n",
              "      <td>10</td>\n",
              "      <td>8</td>\n",
              "      <td>-17</td>\n",
              "      <td>-15</td>\n",
              "      <td>-31</td>\n",
              "      <td>-77</td>\n",
              "      <td>-103</td>\n",
              "      <td>-127</td>\n",
              "      <td>-116</td>\n",
              "      <td>-83</td>\n",
              "      <td>-51</td>\n",
              "      <td>4</td>\n",
              "    </tr>\n",
              "    <tr>\n",
              "      <th>1</th>\n",
              "      <td>X15.V1.924</td>\n",
              "      <td>386</td>\n",
              "      <td>382</td>\n",
              "      <td>356</td>\n",
              "      <td>331</td>\n",
              "      <td>320</td>\n",
              "      <td>315</td>\n",
              "      <td>307</td>\n",
              "      <td>272</td>\n",
              "      <td>244</td>\n",
              "      <td>232</td>\n",
              "      <td>237</td>\n",
              "      <td>258</td>\n",
              "      <td>212</td>\n",
              "      <td>2</td>\n",
              "      <td>-267</td>\n",
              "      <td>-605</td>\n",
              "      <td>-850</td>\n",
              "      <td>-1001</td>\n",
              "      <td>-1109</td>\n",
              "      <td>-1090</td>\n",
              "      <td>-967</td>\n",
              "      <td>-746</td>\n",
              "      <td>-464</td>\n",
              "      <td>-152</td>\n",
              "      <td>118</td>\n",
              "      <td>318</td>\n",
              "      <td>427</td>\n",
              "      <td>473</td>\n",
              "      <td>485</td>\n",
              "      <td>447</td>\n",
              "      <td>397</td>\n",
              "      <td>339</td>\n",
              "      <td>312</td>\n",
              "      <td>314</td>\n",
              "      <td>326</td>\n",
              "      <td>335</td>\n",
              "      <td>332</td>\n",
              "      <td>324</td>\n",
              "      <td>310</td>\n",
              "      <td>...</td>\n",
              "      <td>27</td>\n",
              "      <td>146</td>\n",
              "      <td>229</td>\n",
              "      <td>269</td>\n",
              "      <td>297</td>\n",
              "      <td>307</td>\n",
              "      <td>303</td>\n",
              "      <td>305</td>\n",
              "      <td>306</td>\n",
              "      <td>307</td>\n",
              "      <td>280</td>\n",
              "      <td>231</td>\n",
              "      <td>159</td>\n",
              "      <td>85</td>\n",
              "      <td>51</td>\n",
              "      <td>43</td>\n",
              "      <td>62</td>\n",
              "      <td>63</td>\n",
              "      <td>63</td>\n",
              "      <td>69</td>\n",
              "      <td>89</td>\n",
              "      <td>123</td>\n",
              "      <td>136</td>\n",
              "      <td>127</td>\n",
              "      <td>102</td>\n",
              "      <td>95</td>\n",
              "      <td>105</td>\n",
              "      <td>131</td>\n",
              "      <td>163</td>\n",
              "      <td>168</td>\n",
              "      <td>164</td>\n",
              "      <td>150</td>\n",
              "      <td>146</td>\n",
              "      <td>152</td>\n",
              "      <td>157</td>\n",
              "      <td>156</td>\n",
              "      <td>154</td>\n",
              "      <td>143</td>\n",
              "      <td>129</td>\n",
              "      <td>1</td>\n",
              "    </tr>\n",
              "    <tr>\n",
              "      <th>2</th>\n",
              "      <td>X8.V1.1</td>\n",
              "      <td>-32</td>\n",
              "      <td>-39</td>\n",
              "      <td>-47</td>\n",
              "      <td>-37</td>\n",
              "      <td>-32</td>\n",
              "      <td>-36</td>\n",
              "      <td>-57</td>\n",
              "      <td>-73</td>\n",
              "      <td>-85</td>\n",
              "      <td>-94</td>\n",
              "      <td>-99</td>\n",
              "      <td>-94</td>\n",
              "      <td>-96</td>\n",
              "      <td>-104</td>\n",
              "      <td>-103</td>\n",
              "      <td>-92</td>\n",
              "      <td>-75</td>\n",
              "      <td>-69</td>\n",
              "      <td>-69</td>\n",
              "      <td>-53</td>\n",
              "      <td>-37</td>\n",
              "      <td>-14</td>\n",
              "      <td>-10</td>\n",
              "      <td>-39</td>\n",
              "      <td>-78</td>\n",
              "      <td>-102</td>\n",
              "      <td>-98</td>\n",
              "      <td>-80</td>\n",
              "      <td>-54</td>\n",
              "      <td>-40</td>\n",
              "      <td>-35</td>\n",
              "      <td>-39</td>\n",
              "      <td>-32</td>\n",
              "      <td>-13</td>\n",
              "      <td>7</td>\n",
              "      <td>34</td>\n",
              "      <td>41</td>\n",
              "      <td>33</td>\n",
              "      <td>6</td>\n",
              "      <td>...</td>\n",
              "      <td>-82</td>\n",
              "      <td>-107</td>\n",
              "      <td>-126</td>\n",
              "      <td>-124</td>\n",
              "      <td>-108</td>\n",
              "      <td>-84</td>\n",
              "      <td>-68</td>\n",
              "      <td>-61</td>\n",
              "      <td>-56</td>\n",
              "      <td>-63</td>\n",
              "      <td>-62</td>\n",
              "      <td>-33</td>\n",
              "      <td>1</td>\n",
              "      <td>28</td>\n",
              "      <td>45</td>\n",
              "      <td>37</td>\n",
              "      <td>48</td>\n",
              "      <td>62</td>\n",
              "      <td>80</td>\n",
              "      <td>66</td>\n",
              "      <td>23</td>\n",
              "      <td>-11</td>\n",
              "      <td>-39</td>\n",
              "      <td>-44</td>\n",
              "      <td>-42</td>\n",
              "      <td>-45</td>\n",
              "      <td>-48</td>\n",
              "      <td>-42</td>\n",
              "      <td>-6</td>\n",
              "      <td>29</td>\n",
              "      <td>57</td>\n",
              "      <td>64</td>\n",
              "      <td>48</td>\n",
              "      <td>19</td>\n",
              "      <td>-12</td>\n",
              "      <td>-30</td>\n",
              "      <td>-35</td>\n",
              "      <td>-35</td>\n",
              "      <td>-36</td>\n",
              "      <td>5</td>\n",
              "    </tr>\n",
              "    <tr>\n",
              "      <th>3</th>\n",
              "      <td>X16.V1.60</td>\n",
              "      <td>-105</td>\n",
              "      <td>-101</td>\n",
              "      <td>-96</td>\n",
              "      <td>-92</td>\n",
              "      <td>-89</td>\n",
              "      <td>-95</td>\n",
              "      <td>-102</td>\n",
              "      <td>-100</td>\n",
              "      <td>-87</td>\n",
              "      <td>-79</td>\n",
              "      <td>-72</td>\n",
              "      <td>-68</td>\n",
              "      <td>-74</td>\n",
              "      <td>-80</td>\n",
              "      <td>-83</td>\n",
              "      <td>-73</td>\n",
              "      <td>-68</td>\n",
              "      <td>-61</td>\n",
              "      <td>-58</td>\n",
              "      <td>-59</td>\n",
              "      <td>-64</td>\n",
              "      <td>-79</td>\n",
              "      <td>-84</td>\n",
              "      <td>-97</td>\n",
              "      <td>-94</td>\n",
              "      <td>-84</td>\n",
              "      <td>-77</td>\n",
              "      <td>-75</td>\n",
              "      <td>-72</td>\n",
              "      <td>-68</td>\n",
              "      <td>-76</td>\n",
              "      <td>-76</td>\n",
              "      <td>-72</td>\n",
              "      <td>-67</td>\n",
              "      <td>-69</td>\n",
              "      <td>-69</td>\n",
              "      <td>-69</td>\n",
              "      <td>-67</td>\n",
              "      <td>-68</td>\n",
              "      <td>...</td>\n",
              "      <td>-69</td>\n",
              "      <td>-66</td>\n",
              "      <td>-74</td>\n",
              "      <td>-69</td>\n",
              "      <td>-61</td>\n",
              "      <td>-51</td>\n",
              "      <td>-45</td>\n",
              "      <td>-45</td>\n",
              "      <td>-49</td>\n",
              "      <td>-58</td>\n",
              "      <td>-64</td>\n",
              "      <td>-78</td>\n",
              "      <td>-80</td>\n",
              "      <td>-90</td>\n",
              "      <td>-87</td>\n",
              "      <td>-83</td>\n",
              "      <td>-78</td>\n",
              "      <td>-64</td>\n",
              "      <td>-38</td>\n",
              "      <td>-22</td>\n",
              "      <td>-29</td>\n",
              "      <td>-42</td>\n",
              "      <td>-51</td>\n",
              "      <td>-68</td>\n",
              "      <td>-71</td>\n",
              "      <td>-69</td>\n",
              "      <td>-69</td>\n",
              "      <td>-74</td>\n",
              "      <td>-74</td>\n",
              "      <td>-80</td>\n",
              "      <td>-82</td>\n",
              "      <td>-81</td>\n",
              "      <td>-80</td>\n",
              "      <td>-77</td>\n",
              "      <td>-85</td>\n",
              "      <td>-77</td>\n",
              "      <td>-72</td>\n",
              "      <td>-69</td>\n",
              "      <td>-65</td>\n",
              "      <td>5</td>\n",
              "    </tr>\n",
              "    <tr>\n",
              "      <th>4</th>\n",
              "      <td>X20.V1.54</td>\n",
              "      <td>-9</td>\n",
              "      <td>-65</td>\n",
              "      <td>-98</td>\n",
              "      <td>-102</td>\n",
              "      <td>-78</td>\n",
              "      <td>-48</td>\n",
              "      <td>-16</td>\n",
              "      <td>0</td>\n",
              "      <td>-21</td>\n",
              "      <td>-59</td>\n",
              "      <td>-90</td>\n",
              "      <td>-103</td>\n",
              "      <td>-84</td>\n",
              "      <td>-43</td>\n",
              "      <td>-9</td>\n",
              "      <td>3</td>\n",
              "      <td>-21</td>\n",
              "      <td>-60</td>\n",
              "      <td>-96</td>\n",
              "      <td>-103</td>\n",
              "      <td>-75</td>\n",
              "      <td>-29</td>\n",
              "      <td>14</td>\n",
              "      <td>55</td>\n",
              "      <td>78</td>\n",
              "      <td>73</td>\n",
              "      <td>28</td>\n",
              "      <td>-13</td>\n",
              "      <td>-43</td>\n",
              "      <td>-68</td>\n",
              "      <td>-78</td>\n",
              "      <td>-75</td>\n",
              "      <td>-55</td>\n",
              "      <td>-41</td>\n",
              "      <td>-19</td>\n",
              "      <td>-20</td>\n",
              "      <td>-29</td>\n",
              "      <td>-36</td>\n",
              "      <td>-20</td>\n",
              "      <td>...</td>\n",
              "      <td>38</td>\n",
              "      <td>26</td>\n",
              "      <td>10</td>\n",
              "      <td>-4</td>\n",
              "      <td>-13</td>\n",
              "      <td>-8</td>\n",
              "      <td>0</td>\n",
              "      <td>10</td>\n",
              "      <td>19</td>\n",
              "      <td>29</td>\n",
              "      <td>57</td>\n",
              "      <td>63</td>\n",
              "      <td>45</td>\n",
              "      <td>7</td>\n",
              "      <td>-13</td>\n",
              "      <td>-23</td>\n",
              "      <td>-9</td>\n",
              "      <td>9</td>\n",
              "      <td>11</td>\n",
              "      <td>3</td>\n",
              "      <td>-1</td>\n",
              "      <td>-2</td>\n",
              "      <td>4</td>\n",
              "      <td>18</td>\n",
              "      <td>27</td>\n",
              "      <td>27</td>\n",
              "      <td>14</td>\n",
              "      <td>15</td>\n",
              "      <td>11</td>\n",
              "      <td>10</td>\n",
              "      <td>4</td>\n",
              "      <td>2</td>\n",
              "      <td>-12</td>\n",
              "      <td>-32</td>\n",
              "      <td>-41</td>\n",
              "      <td>-65</td>\n",
              "      <td>-83</td>\n",
              "      <td>-89</td>\n",
              "      <td>-73</td>\n",
              "      <td>5</td>\n",
              "    </tr>\n",
              "  </tbody>\n",
              "</table>\n",
              "<p>5 rows × 180 columns</p>\n",
              "</div>"
            ],
            "text/plain": [
              "   Unnamed: 0   X1   X2   X3   X4   X5  ...  X174  X175  X176  X177  X178  y\n",
              "0  X21.V1.791  135  190  229  223  192  ...  -103  -127  -116   -83   -51  4\n",
              "1  X15.V1.924  386  382  356  331  320  ...   157   156   154   143   129  1\n",
              "2     X8.V1.1  -32  -39  -47  -37  -32  ...   -12   -30   -35   -35   -36  5\n",
              "3   X16.V1.60 -105 -101  -96  -92  -89  ...   -85   -77   -72   -69   -65  5\n",
              "4   X20.V1.54   -9  -65  -98 -102  -78  ...   -41   -65   -83   -89   -73  5\n",
              "\n",
              "[5 rows x 180 columns]"
            ]
          },
          "metadata": {},
          "execution_count": 49
        }
      ]
    },
    {
      "cell_type": "code",
      "metadata": {
        "id": "nuvIKYUfUqra"
      },
      "source": [
        "X=df.values"
      ],
      "execution_count": null,
      "outputs": []
    },
    {
      "cell_type": "code",
      "metadata": {
        "id": "moTMSGIPUqrb"
      },
      "source": [
        "X=X[:,1:-1]\n"
      ],
      "execution_count": null,
      "outputs": []
    },
    {
      "cell_type": "code",
      "metadata": {
        "id": "6BRUSetUUqrc"
      },
      "source": [
        "from sklearn.model_selection import train_test_split\n",
        "\n",
        "\n",
        "y=np.array(df['y'])\n",
        "Y=np_utils.to_categorical(y)\n",
        "Y.shape\n",
        "X_train, X_test, Y_train, Y_test = train_test_split(X, Y, test_size=0.20, random_state=1)\n",
        "X_train= np.asarray(X_train).astype(np.float32)\n",
        "X_test= np.asarray(X_test).astype(np.float32)\n",
        "Y_train= np.asarray(Y_train).astype(np.float32)\n",
        "Y_test= np.asarray(Y_test).astype(np.float32)"
      ],
      "execution_count": null,
      "outputs": []
    },
    {
      "cell_type": "code",
      "metadata": {
        "id": "8FcdZ6qYUqrd",
        "colab": {
          "base_uri": "https://localhost:8080/"
        },
        "outputId": "8ac56d47-d007-4fbd-e899-d2ed4f98d570"
      },
      "source": [
        "print(X.shape,y.shape)"
      ],
      "execution_count": null,
      "outputs": [
        {
          "output_type": "stream",
          "name": "stdout",
          "text": [
            "(11500, 178) (11500,)\n"
          ]
        }
      ]
    },
    {
      "cell_type": "markdown",
      "metadata": {
        "id": "B85fFtZZUqrf"
      },
      "source": [
        "# Intuition of the Epileptical Signal In the Dataset "
      ]
    },
    {
      "cell_type": "code",
      "metadata": {
        "id": "r_5Up5rjUqrg",
        "colab": {
          "base_uri": "https://localhost:8080/",
          "height": 483
        },
        "outputId": "ee7de40d-219b-4253-cb0d-33706e0d7899"
      },
      "source": [
        "plt.figure(figsize=(12,8))\n",
        "plt.plot(X[1,:],label='1')\n",
        "plt.plot(X[7,:],label='2')\n",
        "plt.plot(X[12,:],label='3')\n",
        "plt.plot(X[0,:],label='4')\n",
        "plt.plot(X[2,:],label='5')\n",
        "plt.legend()\n",
        "plt.show()"
      ],
      "execution_count": null,
      "outputs": [
        {
          "output_type": "display_data",
          "data": {
            "image/png": "[encoded data removed]",
            "text/plain": [
              "<Figure size 864x576 with 1 Axes>"
            ]
          },
          "metadata": {
            "needs_background": "light"
          }
        }
      ]
    },
    {
      "cell_type": "markdown",
      "metadata": {
        "id": "AJZOC7vcUqrh"
      },
      "source": [
        "# Creating Artifitial Neural Net Model For the Classification "
      ]
    },
    {
      "cell_type": "code",
      "metadata": {
        "id": "iHdPpV10Uqri",
        "colab": {
          "base_uri": "https://localhost:8080/"
        },
        "outputId": "c264c78e-fac6-4bca-cd21-0a2cf103ba48"
      },
      "source": [
        "model=Sequential()\n",
        "\n",
        "\n",
        "model.add(Dense(256,input_shape=(45,)))\n",
        "model.add(Activation('relu'))\n",
        "model.add(Dense(128))\n",
        "model.add(Activation('relu'))\n",
        "model.add(Dense(128))\n",
        "model.add(Activation('relu'))\n",
        "model.add(Dense(64))\n",
        "model.add(Activation('relu'))\n",
        "model.add(Dense(32))\n",
        "model.add(Activation('relu'))\n",
        "model.add(Dense(32))\n",
        "model.add(Activation('relu'))\n",
        "model.add(Dense(32))\n",
        "model.add(Activation('relu'))\n",
        "model.add(Dense(16))\n",
        "model.add(Activation('relu'))\n",
        "model.add(Dense(16))\n",
        "model.add(Activation('relu'))\n",
        "model.add(Dense(8))\n",
        "model.add(Activation('relu'))\n",
        "model.add(Dense(5))\n",
        "model.add(Activation('softmax'))\n",
        "model.summary()"
      ],
      "execution_count": null,
      "outputs": [
        {
          "output_type": "stream",
          "name": "stdout",
          "text": [
            "Model: \"sequential_2\"\n",
            "_________________________________________________________________\n",
            "Layer (type)                 Output Shape              Param #   \n",
            "=================================================================\n",
            "dense_22 (Dense)             (None, 256)               11776     \n",
            "_________________________________________________________________\n",
            "activation_22 (Activation)   (None, 256)               0         \n",
            "_________________________________________________________________\n",
            "dense_23 (Dense)             (None, 128)               32896     \n",
            "_________________________________________________________________\n",
            "activation_23 (Activation)   (None, 128)               0         \n",
            "_________________________________________________________________\n",
            "dense_24 (Dense)             (None, 128)               16512     \n",
            "_________________________________________________________________\n",
            "activation_24 (Activation)   (None, 128)               0         \n",
            "_________________________________________________________________\n",
            "dense_25 (Dense)             (None, 64)                8256      \n",
            "_________________________________________________________________\n",
            "activation_25 (Activation)   (None, 64)                0         \n",
            "_________________________________________________________________\n",
            "dense_26 (Dense)             (None, 32)                2080      \n",
            "_________________________________________________________________\n",
            "activation_26 (Activation)   (None, 32)                0         \n",
            "_________________________________________________________________\n",
            "dense_27 (Dense)             (None, 32)                1056      \n",
            "_________________________________________________________________\n",
            "activation_27 (Activation)   (None, 32)                0         \n",
            "_________________________________________________________________\n",
            "dense_28 (Dense)             (None, 32)                1056      \n",
            "_________________________________________________________________\n",
            "activation_28 (Activation)   (None, 32)                0         \n",
            "_________________________________________________________________\n",
            "dense_29 (Dense)             (None, 16)                528       \n",
            "_________________________________________________________________\n",
            "activation_29 (Activation)   (None, 16)                0         \n",
            "_________________________________________________________________\n",
            "dense_30 (Dense)             (None, 16)                272       \n",
            "_________________________________________________________________\n",
            "activation_30 (Activation)   (None, 16)                0         \n",
            "_________________________________________________________________\n",
            "dense_31 (Dense)             (None, 8)                 136       \n",
            "_________________________________________________________________\n",
            "activation_31 (Activation)   (None, 8)                 0         \n",
            "_________________________________________________________________\n",
            "dense_32 (Dense)             (None, 5)                 45        \n",
            "_________________________________________________________________\n",
            "activation_32 (Activation)   (None, 5)                 0         \n",
            "=================================================================\n",
            "Total params: 74,613\n",
            "Trainable params: 74,613\n",
            "Non-trainable params: 0\n",
            "_________________________________________________________________\n"
          ]
        }
      ]
    },
    {
      "cell_type": "code",
      "metadata": {
        "id": "hKBd4QYYUqrj"
      },
      "source": [
        "model.compile(optimizer='adam',loss='binary_crossentropy',metrics=['accuracy'])\n"
      ],
      "execution_count": null,
      "outputs": []
    },
    {
      "cell_type": "code",
      "metadata": {
        "colab": {
          "base_uri": "https://localhost:8080/"
        },
        "id": "z6LQpDPqnohd",
        "outputId": "b67b62d2-3afb-42f8-eef8-e17845a45781"
      },
      "source": [
        "graph=model.fit(((X_train[:,::4]-X_train.mean())/X_train.std()),Y_train[:,1:],10,100,verbose=2,validation_data=((X_test[:,::4]-X_test.mean())/X_test.std(),Y_test[:,1:]))"
      ],
      "execution_count": null,
      "outputs": [
        {
          "output_type": "stream",
          "name": "stdout",
          "text": [
            "Epoch 1/100\n",
            "920/920 - 3s - loss: 0.3984 - accuracy: 0.4589 - val_loss: 0.3010 - val_accuracy: 0.6091\n",
            "Epoch 2/100\n",
            "920/920 - 2s - loss: 0.2699 - accuracy: 0.6450 - val_loss: 0.2755 - val_accuracy: 0.6135\n",
            "Epoch 3/100\n",
            "920/920 - 2s - loss: 0.2386 - accuracy: 0.6801 - val_loss: 0.2496 - val_accuracy: 0.6639\n",
            "Epoch 4/100\n",
            "920/920 - 2s - loss: 0.2301 - accuracy: 0.6925 - val_loss: 0.2576 - val_accuracy: 0.6570\n",
            "Epoch 5/100\n",
            "920/920 - 2s - loss: 0.2167 - accuracy: 0.7030 - val_loss: 0.2536 - val_accuracy: 0.6417\n",
            "Epoch 6/100\n",
            "920/920 - 2s - loss: 0.2018 - accuracy: 0.7275 - val_loss: 0.2607 - val_accuracy: 0.6643\n",
            "Epoch 7/100\n",
            "920/920 - 2s - loss: 0.1975 - accuracy: 0.7364 - val_loss: 0.2466 - val_accuracy: 0.6687\n",
            "Epoch 8/100\n",
            "920/920 - 2s - loss: 0.1835 - accuracy: 0.7588 - val_loss: 0.2677 - val_accuracy: 0.6587\n",
            "Epoch 9/100\n",
            "920/920 - 2s - loss: 0.1719 - accuracy: 0.7643 - val_loss: 0.2719 - val_accuracy: 0.6570\n",
            "Epoch 10/100\n",
            "920/920 - 2s - loss: 0.1674 - accuracy: 0.7751 - val_loss: 0.2877 - val_accuracy: 0.6696\n",
            "Epoch 11/100\n",
            "920/920 - 2s - loss: 0.1599 - accuracy: 0.7893 - val_loss: 0.2858 - val_accuracy: 0.6717\n",
            "Epoch 12/100\n",
            "920/920 - 2s - loss: 0.1546 - accuracy: 0.7997 - val_loss: 0.3071 - val_accuracy: 0.6613\n",
            "Epoch 13/100\n",
            "920/920 - 2s - loss: 0.1545 - accuracy: 0.8083 - val_loss: 0.2927 - val_accuracy: 0.6609\n",
            "Epoch 14/100\n",
            "920/920 - 2s - loss: 0.1430 - accuracy: 0.8172 - val_loss: 0.2907 - val_accuracy: 0.6691\n",
            "Epoch 15/100\n",
            "920/920 - 2s - loss: 0.1380 - accuracy: 0.8228 - val_loss: 0.3028 - val_accuracy: 0.6761\n",
            "Epoch 16/100\n",
            "920/920 - 2s - loss: 0.1305 - accuracy: 0.8383 - val_loss: 0.3451 - val_accuracy: 0.6822\n",
            "Epoch 17/100\n",
            "920/920 - 2s - loss: 0.1257 - accuracy: 0.8521 - val_loss: 0.3427 - val_accuracy: 0.6822\n",
            "Epoch 18/100\n",
            "920/920 - 2s - loss: 0.1157 - accuracy: 0.8649 - val_loss: 0.3769 - val_accuracy: 0.6743\n",
            "Epoch 19/100\n",
            "920/920 - 2s - loss: 0.1130 - accuracy: 0.8734 - val_loss: 0.3599 - val_accuracy: 0.6865\n",
            "Epoch 20/100\n",
            "920/920 - 2s - loss: 0.1017 - accuracy: 0.8876 - val_loss: 0.3648 - val_accuracy: 0.6891\n",
            "Epoch 21/100\n",
            "920/920 - 2s - loss: 0.1011 - accuracy: 0.8901 - val_loss: 0.3609 - val_accuracy: 0.7009\n",
            "Epoch 22/100\n",
            "920/920 - 2s - loss: 0.0911 - accuracy: 0.8997 - val_loss: 0.3818 - val_accuracy: 0.6926\n",
            "Epoch 23/100\n",
            "920/920 - 2s - loss: 0.0904 - accuracy: 0.9078 - val_loss: 0.3931 - val_accuracy: 0.6957\n",
            "Epoch 24/100\n",
            "920/920 - 2s - loss: 0.0826 - accuracy: 0.9189 - val_loss: 0.4439 - val_accuracy: 0.6943\n",
            "Epoch 25/100\n",
            "920/920 - 2s - loss: 0.0765 - accuracy: 0.9239 - val_loss: 0.3969 - val_accuracy: 0.7083\n",
            "Epoch 26/100\n",
            "920/920 - 2s - loss: 0.0691 - accuracy: 0.9327 - val_loss: 0.3533 - val_accuracy: 0.7100\n",
            "Epoch 27/100\n",
            "920/920 - 2s - loss: 0.0638 - accuracy: 0.9379 - val_loss: 0.4052 - val_accuracy: 0.7087\n",
            "Epoch 28/100\n",
            "920/920 - 2s - loss: 0.0570 - accuracy: 0.9455 - val_loss: 0.4503 - val_accuracy: 0.7104\n",
            "Epoch 29/100\n",
            "920/920 - 2s - loss: 0.0575 - accuracy: 0.9461 - val_loss: 0.4432 - val_accuracy: 0.6961\n",
            "Epoch 30/100\n",
            "920/920 - 2s - loss: 0.0537 - accuracy: 0.9488 - val_loss: 0.4313 - val_accuracy: 0.7143\n",
            "Epoch 31/100\n",
            "920/920 - 2s - loss: 0.0524 - accuracy: 0.9508 - val_loss: 0.3959 - val_accuracy: 0.7183\n",
            "Epoch 32/100\n",
            "920/920 - 2s - loss: 0.0442 - accuracy: 0.9609 - val_loss: 0.4823 - val_accuracy: 0.7065\n",
            "Epoch 33/100\n",
            "920/920 - 2s - loss: 0.0504 - accuracy: 0.9563 - val_loss: 0.4714 - val_accuracy: 0.7113\n",
            "Epoch 34/100\n",
            "920/920 - 2s - loss: 0.0407 - accuracy: 0.9647 - val_loss: 0.4886 - val_accuracy: 0.7004\n",
            "Epoch 35/100\n",
            "920/920 - 2s - loss: 0.0439 - accuracy: 0.9607 - val_loss: 0.4512 - val_accuracy: 0.7235\n",
            "Epoch 36/100\n",
            "920/920 - 2s - loss: 0.0380 - accuracy: 0.9663 - val_loss: 0.5007 - val_accuracy: 0.7091\n",
            "Epoch 37/100\n",
            "920/920 - 2s - loss: 0.0375 - accuracy: 0.9661 - val_loss: 0.4837 - val_accuracy: 0.7117\n",
            "Epoch 38/100\n",
            "920/920 - 2s - loss: 0.0387 - accuracy: 0.9685 - val_loss: 0.5240 - val_accuracy: 0.7165\n",
            "Epoch 39/100\n",
            "920/920 - 2s - loss: 0.0407 - accuracy: 0.9687 - val_loss: 0.4653 - val_accuracy: 0.7070\n",
            "Epoch 40/100\n",
            "920/920 - 2s - loss: 0.0316 - accuracy: 0.9713 - val_loss: 0.4890 - val_accuracy: 0.7187\n",
            "Epoch 41/100\n",
            "920/920 - 2s - loss: 0.0313 - accuracy: 0.9727 - val_loss: 0.4879 - val_accuracy: 0.7165\n",
            "Epoch 42/100\n",
            "920/920 - 2s - loss: 0.0298 - accuracy: 0.9742 - val_loss: 0.5569 - val_accuracy: 0.7183\n",
            "Epoch 43/100\n",
            "920/920 - 2s - loss: 0.0295 - accuracy: 0.9787 - val_loss: 0.5500 - val_accuracy: 0.7213\n",
            "Epoch 44/100\n",
            "920/920 - 2s - loss: 0.0312 - accuracy: 0.9735 - val_loss: 0.5425 - val_accuracy: 0.7117\n",
            "Epoch 45/100\n",
            "920/920 - 2s - loss: 0.0265 - accuracy: 0.9753 - val_loss: 0.5094 - val_accuracy: 0.7235\n",
            "Epoch 46/100\n",
            "920/920 - 2s - loss: 0.0222 - accuracy: 0.9804 - val_loss: 0.5351 - val_accuracy: 0.7261\n",
            "Epoch 47/100\n",
            "920/920 - 2s - loss: 0.0311 - accuracy: 0.9755 - val_loss: 0.4820 - val_accuracy: 0.7226\n",
            "Epoch 48/100\n",
            "920/920 - 2s - loss: 0.0283 - accuracy: 0.9777 - val_loss: 0.5038 - val_accuracy: 0.7174\n",
            "Epoch 49/100\n",
            "920/920 - 2s - loss: 0.0266 - accuracy: 0.9799 - val_loss: 0.4773 - val_accuracy: 0.7217\n",
            "Epoch 50/100\n",
            "920/920 - 2s - loss: 0.0233 - accuracy: 0.9812 - val_loss: 0.5055 - val_accuracy: 0.7122\n",
            "Epoch 51/100\n",
            "920/920 - 2s - loss: 0.0261 - accuracy: 0.9789 - val_loss: 0.5022 - val_accuracy: 0.7148\n",
            "Epoch 52/100\n",
            "920/920 - 2s - loss: 0.0205 - accuracy: 0.9846 - val_loss: 0.5661 - val_accuracy: 0.7104\n",
            "Epoch 53/100\n",
            "920/920 - 2s - loss: 0.0194 - accuracy: 0.9847 - val_loss: 0.5614 - val_accuracy: 0.7122\n",
            "Epoch 54/100\n",
            "920/920 - 2s - loss: 0.0245 - accuracy: 0.9800 - val_loss: 0.4470 - val_accuracy: 0.7148\n",
            "Epoch 55/100\n",
            "920/920 - 2s - loss: 0.0234 - accuracy: 0.9811 - val_loss: 0.5923 - val_accuracy: 0.7157\n",
            "Epoch 56/100\n",
            "920/920 - 2s - loss: 0.0224 - accuracy: 0.9828 - val_loss: 0.5390 - val_accuracy: 0.7152\n",
            "Epoch 57/100\n",
            "920/920 - 2s - loss: 0.0167 - accuracy: 0.9851 - val_loss: 0.5552 - val_accuracy: 0.7335\n",
            "Epoch 58/100\n",
            "920/920 - 2s - loss: 0.0268 - accuracy: 0.9799 - val_loss: 0.5085 - val_accuracy: 0.7135\n",
            "Epoch 59/100\n",
            "920/920 - 2s - loss: 0.0214 - accuracy: 0.9829 - val_loss: 0.5488 - val_accuracy: 0.7270\n",
            "Epoch 60/100\n",
            "920/920 - 2s - loss: 0.0178 - accuracy: 0.9868 - val_loss: 0.5609 - val_accuracy: 0.7143\n",
            "Epoch 61/100\n",
            "920/920 - 2s - loss: 0.0262 - accuracy: 0.9807 - val_loss: 0.5579 - val_accuracy: 0.7196\n",
            "Epoch 62/100\n",
            "920/920 - 3s - loss: 0.0157 - accuracy: 0.9871 - val_loss: 0.6538 - val_accuracy: 0.7065\n",
            "Epoch 63/100\n",
            "920/920 - 3s - loss: 0.0175 - accuracy: 0.9866 - val_loss: 0.6407 - val_accuracy: 0.7235\n",
            "Epoch 64/100\n",
            "920/920 - 2s - loss: 0.0169 - accuracy: 0.9866 - val_loss: 0.6136 - val_accuracy: 0.7113\n",
            "Epoch 65/100\n",
            "920/920 - 2s - loss: 0.0156 - accuracy: 0.9880 - val_loss: 0.6245 - val_accuracy: 0.7165\n",
            "Epoch 66/100\n",
            "920/920 - 2s - loss: 0.0167 - accuracy: 0.9862 - val_loss: 0.5934 - val_accuracy: 0.7165\n",
            "Epoch 67/100\n",
            "920/920 - 2s - loss: 0.0182 - accuracy: 0.9854 - val_loss: 0.5188 - val_accuracy: 0.7087\n",
            "Epoch 68/100\n",
            "920/920 - 2s - loss: 0.0176 - accuracy: 0.9851 - val_loss: 0.5754 - val_accuracy: 0.7309\n",
            "Epoch 69/100\n",
            "920/920 - 2s - loss: 0.0182 - accuracy: 0.9879 - val_loss: 0.5650 - val_accuracy: 0.7270\n",
            "Epoch 70/100\n",
            "920/920 - 2s - loss: 0.0162 - accuracy: 0.9870 - val_loss: 0.6453 - val_accuracy: 0.7261\n",
            "Epoch 71/100\n",
            "920/920 - 2s - loss: 0.0162 - accuracy: 0.9866 - val_loss: 0.6032 - val_accuracy: 0.7287\n",
            "Epoch 72/100\n",
            "920/920 - 2s - loss: 0.0121 - accuracy: 0.9902 - val_loss: 0.6626 - val_accuracy: 0.7257\n",
            "Epoch 73/100\n",
            "920/920 - 2s - loss: 0.0215 - accuracy: 0.9848 - val_loss: 0.6302 - val_accuracy: 0.7078\n",
            "Epoch 74/100\n",
            "920/920 - 2s - loss: 0.0172 - accuracy: 0.9870 - val_loss: 0.5852 - val_accuracy: 0.7126\n",
            "Epoch 75/100\n",
            "920/920 - 2s - loss: 0.0110 - accuracy: 0.9921 - val_loss: 0.6195 - val_accuracy: 0.7187\n",
            "Epoch 76/100\n",
            "920/920 - 2s - loss: 0.0182 - accuracy: 0.9854 - val_loss: 0.6197 - val_accuracy: 0.7083\n",
            "Epoch 77/100\n",
            "920/920 - 2s - loss: 0.0250 - accuracy: 0.9850 - val_loss: 0.5476 - val_accuracy: 0.7187\n",
            "Epoch 78/100\n",
            "920/920 - 2s - loss: 0.0162 - accuracy: 0.9850 - val_loss: 0.6076 - val_accuracy: 0.7113\n",
            "Epoch 79/100\n",
            "920/920 - 2s - loss: 0.0126 - accuracy: 0.9895 - val_loss: 0.6364 - val_accuracy: 0.7200\n",
            "Epoch 80/100\n",
            "920/920 - 2s - loss: 0.0129 - accuracy: 0.9890 - val_loss: 0.7139 - val_accuracy: 0.7222\n",
            "Epoch 81/100\n",
            "920/920 - 2s - loss: 0.0124 - accuracy: 0.9920 - val_loss: 0.6575 - val_accuracy: 0.7287\n",
            "Epoch 82/100\n",
            "920/920 - 2s - loss: 0.0143 - accuracy: 0.9885 - val_loss: 0.6604 - val_accuracy: 0.7165\n",
            "Epoch 83/100\n",
            "920/920 - 2s - loss: 0.0151 - accuracy: 0.9885 - val_loss: 0.6287 - val_accuracy: 0.7174\n",
            "Epoch 84/100\n",
            "920/920 - 2s - loss: 0.0198 - accuracy: 0.9868 - val_loss: 0.5639 - val_accuracy: 0.7335\n",
            "Epoch 85/100\n",
            "920/920 - 2s - loss: 0.0145 - accuracy: 0.9872 - val_loss: 0.6042 - val_accuracy: 0.7230\n",
            "Epoch 86/100\n",
            "920/920 - 2s - loss: 0.0094 - accuracy: 0.9925 - val_loss: 0.6495 - val_accuracy: 0.7265\n",
            "Epoch 87/100\n",
            "920/920 - 2s - loss: 0.0141 - accuracy: 0.9896 - val_loss: 0.5795 - val_accuracy: 0.7326\n",
            "Epoch 88/100\n",
            "920/920 - 2s - loss: 0.0269 - accuracy: 0.9814 - val_loss: 0.5263 - val_accuracy: 0.7230\n",
            "Epoch 89/100\n",
            "920/920 - 2s - loss: 0.0186 - accuracy: 0.9867 - val_loss: 0.6111 - val_accuracy: 0.7309\n",
            "Epoch 90/100\n",
            "920/920 - 2s - loss: 0.0109 - accuracy: 0.9923 - val_loss: 0.6427 - val_accuracy: 0.7239\n",
            "Epoch 91/100\n",
            "920/920 - 2s - loss: 0.0115 - accuracy: 0.9926 - val_loss: 0.6684 - val_accuracy: 0.7257\n",
            "Epoch 92/100\n",
            "920/920 - 2s - loss: 0.0094 - accuracy: 0.9933 - val_loss: 0.7017 - val_accuracy: 0.7043\n",
            "Epoch 93/100\n",
            "920/920 - 3s - loss: 0.0175 - accuracy: 0.9877 - val_loss: 0.6407 - val_accuracy: 0.7030\n",
            "Epoch 94/100\n",
            "920/920 - 3s - loss: 0.0115 - accuracy: 0.9922 - val_loss: 0.6265 - val_accuracy: 0.7022\n",
            "Epoch 95/100\n",
            "920/920 - 2s - loss: 0.0189 - accuracy: 0.9860 - val_loss: 0.6238 - val_accuracy: 0.7135\n",
            "Epoch 96/100\n",
            "920/920 - 2s - loss: 0.0136 - accuracy: 0.9900 - val_loss: 0.6742 - val_accuracy: 0.7139\n",
            "Epoch 97/100\n",
            "920/920 - 2s - loss: 0.0133 - accuracy: 0.9903 - val_loss: 0.7423 - val_accuracy: 0.7196\n",
            "Epoch 98/100\n",
            "920/920 - 2s - loss: 0.0077 - accuracy: 0.9943 - val_loss: 0.6723 - val_accuracy: 0.7083\n",
            "Epoch 99/100\n",
            "920/920 - 2s - loss: 0.0153 - accuracy: 0.9885 - val_loss: 0.6411 - val_accuracy: 0.7248\n",
            "Epoch 100/100\n",
            "920/920 - 2s - loss: 0.0179 - accuracy: 0.9878 - val_loss: 0.5312 - val_accuracy: 0.7087\n"
          ]
        }
      ]
    },
    {
      "cell_type": "code",
      "metadata": {
        "colab": {
          "base_uri": "https://localhost:8080/",
          "height": 295
        },
        "id": "sldw1YqLoHbs",
        "outputId": "fab0e7a4-23bd-48a2-fd29-7295f5cb4c2a"
      },
      "source": [
        "plt.plot(graph.history['accuracy'])\n",
        "plt.plot(graph.history['val_accuracy'])\n",
        "plt.title('model accuracy')\n",
        "plt.ylabel('accuracy')\n",
        "plt.xlabel('epoch')\n",
        "plt.legend(['train', 'val'], loc='upper left')\n",
        "plt.show()"
      ],
      "execution_count": null,
      "outputs": [
        {
          "output_type": "display_data",
          "data": {
            "image/png": "[encoded data removed]",
            "text/plain": [
              "<Figure size 432x288 with 1 Axes>"
            ]
          },
          "metadata": {
            "needs_background": "light"
          }
        }
      ]
    },
    {
      "cell_type": "code",
      "metadata": {
        "colab": {
          "base_uri": "https://localhost:8080/",
          "height": 320
        },
        "id": "4g_Vp9oXo1TG",
        "outputId": "fb665c33-3b19-40ef-9fa7-d77577fe9aa3"
      },
      "source": [
        "pd.DataFrame(graph.history).plot(figsize=(8,5))\n",
        "plt.show()\n"
      ],
      "execution_count": null,
      "outputs": [
        {
          "output_type": "display_data",
          "data": {
            "image/png": "[encoded data removed]",
            "text/plain": [
              "<Figure size 576x360 with 1 Axes>"
            ]
          },
          "metadata": {
            "needs_background": "light"
          }
        }
      ]
    },
    {
      "cell_type": "markdown",
      "metadata": {
        "id": "2iOtwyPRUqrk"
      },
      "source": [
        "# Accuracy on Validation Set"
      ]
    },
    {
      "cell_type": "code",
      "metadata": {
        "id": "s7HPG3_oUqrl",
        "colab": {
          "base_uri": "https://localhost:8080/"
        },
        "outputId": "8b54dd9e-25fe-41f2-c752-4f40ebb3333a"
      },
      "source": [
        "ypred=model.predict((X_test[:,::4]-X_test.mean())/X_test.std())\n",
        "ypred.shape"
      ],
      "execution_count": null,
      "outputs": [
        {
          "output_type": "execute_result",
          "data": {
            "text/plain": [
              "(2300, 5)"
            ]
          },
          "metadata": {},
          "execution_count": 60
        }
      ]
    },
    {
      "cell_type": "code",
      "metadata": {
        "id": "NbErgiotUqrl"
      },
      "source": [
        "yp=np.zeros((Y_test.shape[0]))\n",
        "yo=np.ones((Y_test.shape[0]))"
      ],
      "execution_count": null,
      "outputs": []
    },
    {
      "cell_type": "code",
      "metadata": {
        "id": "3o201QOMUqrm"
      },
      "source": [
        "for i in range(Y_test.shape[0]):\n",
        "    yp[i]=np.argmax(ypred[i])+1\n",
        "    yo[i]=np.argmax(Y_test[i])"
      ],
      "execution_count": null,
      "outputs": []
    },
    {
      "cell_type": "code",
      "metadata": {
        "id": "Teo-7VOuUqrm",
        "colab": {
          "base_uri": "https://localhost:8080/"
        },
        "outputId": "2fae765c-6285-46f9-ed34-e1b18062fae6"
      },
      "source": [
        "yp.shape"
      ],
      "execution_count": null,
      "outputs": [
        {
          "output_type": "execute_result",
          "data": {
            "text/plain": [
              "(2300,)"
            ]
          },
          "metadata": {},
          "execution_count": 63
        }
      ]
    },
    {
      "cell_type": "code",
      "metadata": {
        "id": "QexXq4oBUqrn",
        "colab": {
          "base_uri": "https://localhost:8080/"
        },
        "outputId": "e77ca773-c932-4b5c-da5b-4b3efe176a4a"
      },
      "source": [
        "yo.shape"
      ],
      "execution_count": null,
      "outputs": [
        {
          "output_type": "execute_result",
          "data": {
            "text/plain": [
              "(2300,)"
            ]
          },
          "metadata": {},
          "execution_count": 64
        }
      ]
    },
    {
      "cell_type": "code",
      "metadata": {
        "id": "NsM3M3zlUqro",
        "colab": {
          "base_uri": "https://localhost:8080/"
        },
        "outputId": "94dd5358-8eca-4f1a-f448-76b7320d55c0"
      },
      "source": [
        "np.unique(yo)"
      ],
      "execution_count": null,
      "outputs": [
        {
          "output_type": "execute_result",
          "data": {
            "text/plain": [
              "array([1., 2., 3., 4., 5.])"
            ]
          },
          "metadata": {},
          "execution_count": 65
        }
      ]
    },
    {
      "cell_type": "code",
      "metadata": {
        "id": "kOW-UOWOUqro",
        "colab": {
          "base_uri": "https://localhost:8080/"
        },
        "outputId": "620cf0ce-8747-4dda-a791-3f20e3aefb4a"
      },
      "source": [
        "np.unique(Y_test)"
      ],
      "execution_count": null,
      "outputs": [
        {
          "output_type": "execute_result",
          "data": {
            "text/plain": [
              "array([0., 1.], dtype=float32)"
            ]
          },
          "metadata": {},
          "execution_count": 66
        }
      ]
    },
    {
      "cell_type": "code",
      "metadata": {
        "id": "ET6K5GuKUqrp",
        "colab": {
          "base_uri": "https://localhost:8080/"
        },
        "outputId": "9846f35a-1563-4d12-cf42-149ea2777385"
      },
      "source": [
        "np.unique(yp)"
      ],
      "execution_count": null,
      "outputs": [
        {
          "output_type": "execute_result",
          "data": {
            "text/plain": [
              "array([1., 2., 3., 4., 5.])"
            ]
          },
          "metadata": {},
          "execution_count": 67
        }
      ]
    },
    {
      "cell_type": "code",
      "metadata": {
        "id": "yiS1sD4MUqrq",
        "colab": {
          "base_uri": "https://localhost:8080/"
        },
        "outputId": "9b81bc05-044b-47f6-b2a4-bb22502e4a7f"
      },
      "source": [
        "yo.shape"
      ],
      "execution_count": null,
      "outputs": [
        {
          "output_type": "execute_result",
          "data": {
            "text/plain": [
              "(2300,)"
            ]
          },
          "metadata": {},
          "execution_count": 68
        }
      ]
    },
    {
      "cell_type": "code",
      "metadata": {
        "id": "8_ycaNdoUqrq"
      },
      "source": [
        "#conversion of classes\n",
        "for i in range(Y_test.shape[0]):\n",
        "    if yo[i]!=1:\n",
        "        yo[i]=0\n",
        "    if yp[i]!=1:\n",
        "        yp[i]=0"
      ],
      "execution_count": null,
      "outputs": []
    },
    {
      "cell_type": "code",
      "metadata": {
        "id": "r5bFfEJMUqrq",
        "colab": {
          "base_uri": "https://localhost:8080/"
        },
        "outputId": "c7e3c406-2e41-4bd6-8f69-6b9f91c88017"
      },
      "source": [
        "np.unique(yo)"
      ],
      "execution_count": null,
      "outputs": [
        {
          "output_type": "execute_result",
          "data": {
            "text/plain": [
              "array([0., 1.])"
            ]
          },
          "metadata": {},
          "execution_count": 70
        }
      ]
    },
    {
      "cell_type": "code",
      "metadata": {
        "id": "BoRyeWlRUqrr",
        "colab": {
          "base_uri": "https://localhost:8080/"
        },
        "outputId": "2f5ef6ed-06b3-46d5-c8d1-a64b6425e2e1"
      },
      "source": [
        "np.unique(yp)"
      ],
      "execution_count": null,
      "outputs": [
        {
          "output_type": "execute_result",
          "data": {
            "text/plain": [
              "array([0., 1.])"
            ]
          },
          "metadata": {},
          "execution_count": 71
        }
      ]
    },
    {
      "cell_type": "code",
      "metadata": {
        "id": "MK3SrfI2Uqrr"
      },
      "source": [
        "from sklearn.metrics import accuracy_score"
      ],
      "execution_count": null,
      "outputs": []
    },
    {
      "cell_type": "code",
      "metadata": {
        "id": "gEGFw8kiUqrr",
        "colab": {
          "base_uri": "https://localhost:8080/"
        },
        "outputId": "550b608a-3f53-4dd7-f3ea-f9c731f7d9c4"
      },
      "source": [
        "accuracy_score(yo,yp)"
      ],
      "execution_count": null,
      "outputs": [
        {
          "output_type": "execute_result",
          "data": {
            "text/plain": [
              "0.9747826086956521"
            ]
          },
          "metadata": {},
          "execution_count": 72
        }
      ]
    },
    {
      "cell_type": "code",
      "metadata": {
        "id": "0_o5izeTUqrs",
        "colab": {
          "base_uri": "https://localhost:8080/",
          "height": 281
        },
        "outputId": "155dc9d5-c0ee-47c9-932a-961f3807925b"
      },
      "source": [
        "plt.plot(np.unique(yo),'b')\n",
        "plt.plot(np.unique(yp), 'black')\n",
        "plt.title('Ann Accuracy on Validation Data = 97%')\n",
        "plt\n",
        "plt.show()"
      ],
      "execution_count": null,
      "outputs": [
        {
          "output_type": "display_data",
          "data": {
            "image/png": "[encoded data removed]",
            "text/plain": [
              "<Figure size 432x288 with 1 Axes>"
            ]
          },
          "metadata": {
            "needs_background": "light"
          }
        }
      ]
    },
    {
      "cell_type": "code",
      "metadata": {
        "colab": {
          "base_uri": "https://localhost:8080/"
        },
        "id": "LFRbae8P3OaI",
        "outputId": "e92c93f3-84d8-42c8-8149-20b142f702b4"
      },
      "source": [
        "ypred1=model.predict((X_train[:,::4]-X_train.mean())/X_train.std())\n",
        "ypred1.shape"
      ],
      "execution_count": null,
      "outputs": [
        {
          "output_type": "execute_result",
          "data": {
            "text/plain": [
              "(9200, 5)"
            ]
          },
          "metadata": {},
          "execution_count": 74
        }
      ]
    },
    {
      "cell_type": "code",
      "metadata": {
        "id": "deqZsmny3P-6"
      },
      "source": [
        "yp1=np.zeros((Y_train.shape[0]))\n",
        "yo1=np.ones((Y_train.shape[0]))"
      ],
      "execution_count": null,
      "outputs": []
    },
    {
      "cell_type": "code",
      "metadata": {
        "id": "xDPrwChi3S9V"
      },
      "source": [
        "for i in range(Y_train.shape[0]):\n",
        "    yp1[i]=np.argmax(ypred1[i])+1\n",
        "    yo1[i]=np.argmax(Y_train[i])"
      ],
      "execution_count": null,
      "outputs": []
    },
    {
      "cell_type": "code",
      "metadata": {
        "id": "QHfuAIr73YcX"
      },
      "source": [
        "for i in range(Y_train.shape[0]):\n",
        "    if yo1[i]!=1:\n",
        "        yo1[i]=0\n",
        "    if yp1[i]!=1:\n",
        "        yp1[i]=0"
      ],
      "execution_count": null,
      "outputs": []
    },
    {
      "cell_type": "code",
      "metadata": {
        "colab": {
          "base_uri": "https://localhost:8080/"
        },
        "id": "sVxvEY9P3ZmJ",
        "outputId": "ff3d5e65-22a0-4cd2-e5b7-9f97a77d2bea"
      },
      "source": [
        "accuracy_score(yo1,yp1)"
      ],
      "execution_count": null,
      "outputs": [
        {
          "output_type": "execute_result",
          "data": {
            "text/plain": [
              "0.9971739130434782"
            ]
          },
          "metadata": {},
          "execution_count": 78
        }
      ]
    }
  ]
}