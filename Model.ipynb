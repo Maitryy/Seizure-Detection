{
  "nbformat": 4,
  "nbformat_minor": 0,
  "metadata": {
    "kernelspec": {
      "display_name": "Python 3",
      "language": "python",
      "name": "python3"
    },
    "language_info": {
      "codemirror_mode": {
        "name": "ipython",
        "version": 3
      },
      "file_extension": ".py",
      "mimetype": "text/x-python",
      "name": "python",
      "nbconvert_exporter": "python",
      "pygments_lexer": "ipython3",
      "version": "3.7.1"
    },
    "colab": {
      "name": "Model.ipynb",
      "provenance": []
    }
  },
  "cells": [
    {
      "cell_type": "markdown",
      "metadata": {
        "id": "3_U59tPMZNr3"
      },
      "source": [
        "# Classification of Epileptical Seizures from EEG signals using Deep Learning\n",
        "\n"
      ]
    },
    {
      "cell_type": "code",
      "metadata": {
        "id": "EIUHsy5FZNr5"
      },
      "source": [
        "import tensorflow as tf\n",
        "import numpy as np\n",
        "from keras.models import Sequential\n",
        "from keras.utils import np_utils\n",
        "from keras.layers import Dense, Activation , LSTM , Dropout , AveragePooling3D\n",
        "import pandas as pd\n",
        "from tensorflow.keras.utils import to_categorical\n",
        "\n",
        "import matplotlib.pyplot as plt"
      ],
      "execution_count": null,
      "outputs": []
    },
    {
      "cell_type": "markdown",
      "metadata": {
        "id": "hrFjXQd3ZNr7"
      },
      "source": [
        "# Data Preprocessing"
      ]
    },
    {
      "cell_type": "code",
      "metadata": {
        "colab": {
          "base_uri": "https://localhost:8080/",
          "height": 273
        },
        "id": "aYifDGiwZNr7",
        "outputId": "5262c9f2-5e08-45de-8c8f-6bff0f55edf5"
      },
      "source": [
        "df=pd.read_csv('data.csv')\n",
        "df.head()"
      ],
      "execution_count": null,
      "outputs": [
        {
          "output_type": "execute_result",
          "data": {
            "text/html": [
              "<div>\n",
              "<style scoped>\n",
              "    .dataframe tbody tr th:only-of-type {\n",
              "        vertical-align: middle;\n",
              "    }\n",
              "\n",
              "    .dataframe tbody tr th {\n",
              "        vertical-align: top;\n",
              "    }\n",
              "\n",
              "    .dataframe thead th {\n",
              "        text-align: right;\n",
              "    }\n",
              "</style>\n",
              "<table border=\"1\" class=\"dataframe\">\n",
              "  <thead>\n",
              "    <tr style=\"text-align: right;\">\n",
              "      <th></th>\n",
              "      <th>Unnamed: 0</th>\n",
              "      <th>X1</th>\n",
              "      <th>X2</th>\n",
              "      <th>X3</th>\n",
              "      <th>X4</th>\n",
              "      <th>X5</th>\n",
              "      <th>X6</th>\n",
              "      <th>X7</th>\n",
              "      <th>X8</th>\n",
              "      <th>X9</th>\n",
              "      <th>X10</th>\n",
              "      <th>X11</th>\n",
              "      <th>X12</th>\n",
              "      <th>X13</th>\n",
              "      <th>X14</th>\n",
              "      <th>X15</th>\n",
              "      <th>X16</th>\n",
              "      <th>X17</th>\n",
              "      <th>X18</th>\n",
              "      <th>X19</th>\n",
              "      <th>X20</th>\n",
              "      <th>X21</th>\n",
              "      <th>X22</th>\n",
              "      <th>X23</th>\n",
              "      <th>X24</th>\n",
              "      <th>X25</th>\n",
              "      <th>X26</th>\n",
              "      <th>X27</th>\n",
              "      <th>X28</th>\n",
              "      <th>X29</th>\n",
              "      <th>X30</th>\n",
              "      <th>X31</th>\n",
              "      <th>X32</th>\n",
              "      <th>X33</th>\n",
              "      <th>X34</th>\n",
              "      <th>X35</th>\n",
              "      <th>X36</th>\n",
              "      <th>X37</th>\n",
              "      <th>X38</th>\n",
              "      <th>X39</th>\n",
              "      <th>...</th>\n",
              "      <th>X140</th>\n",
              "      <th>X141</th>\n",
              "      <th>X142</th>\n",
              "      <th>X143</th>\n",
              "      <th>X144</th>\n",
              "      <th>X145</th>\n",
              "      <th>X146</th>\n",
              "      <th>X147</th>\n",
              "      <th>X148</th>\n",
              "      <th>X149</th>\n",
              "      <th>X150</th>\n",
              "      <th>X151</th>\n",
              "      <th>X152</th>\n",
              "      <th>X153</th>\n",
              "      <th>X154</th>\n",
              "      <th>X155</th>\n",
              "      <th>X156</th>\n",
              "      <th>X157</th>\n",
              "      <th>X158</th>\n",
              "      <th>X159</th>\n",
              "      <th>X160</th>\n",
              "      <th>X161</th>\n",
              "      <th>X162</th>\n",
              "      <th>X163</th>\n",
              "      <th>X164</th>\n",
              "      <th>X165</th>\n",
              "      <th>X166</th>\n",
              "      <th>X167</th>\n",
              "      <th>X168</th>\n",
              "      <th>X169</th>\n",
              "      <th>X170</th>\n",
              "      <th>X171</th>\n",
              "      <th>X172</th>\n",
              "      <th>X173</th>\n",
              "      <th>X174</th>\n",
              "      <th>X175</th>\n",
              "      <th>X176</th>\n",
              "      <th>X177</th>\n",
              "      <th>X178</th>\n",
              "      <th>y</th>\n",
              "    </tr>\n",
              "  </thead>\n",
              "  <tbody>\n",
              "    <tr>\n",
              "      <th>0</th>\n",
              "      <td>X21.V1.791</td>\n",
              "      <td>135</td>\n",
              "      <td>190</td>\n",
              "      <td>229</td>\n",
              "      <td>223</td>\n",
              "      <td>192</td>\n",
              "      <td>125</td>\n",
              "      <td>55</td>\n",
              "      <td>-9</td>\n",
              "      <td>-33</td>\n",
              "      <td>-38</td>\n",
              "      <td>-10</td>\n",
              "      <td>35</td>\n",
              "      <td>64</td>\n",
              "      <td>113</td>\n",
              "      <td>152</td>\n",
              "      <td>164</td>\n",
              "      <td>127</td>\n",
              "      <td>50</td>\n",
              "      <td>-47</td>\n",
              "      <td>-121</td>\n",
              "      <td>-138</td>\n",
              "      <td>-125</td>\n",
              "      <td>-101</td>\n",
              "      <td>-50</td>\n",
              "      <td>11</td>\n",
              "      <td>39</td>\n",
              "      <td>24</td>\n",
              "      <td>48</td>\n",
              "      <td>64</td>\n",
              "      <td>46</td>\n",
              "      <td>13</td>\n",
              "      <td>-19</td>\n",
              "      <td>-61</td>\n",
              "      <td>-96</td>\n",
              "      <td>-130</td>\n",
              "      <td>-132</td>\n",
              "      <td>-116</td>\n",
              "      <td>-115</td>\n",
              "      <td>-71</td>\n",
              "      <td>...</td>\n",
              "      <td>54</td>\n",
              "      <td>90</td>\n",
              "      <td>111</td>\n",
              "      <td>107</td>\n",
              "      <td>64</td>\n",
              "      <td>32</td>\n",
              "      <td>18</td>\n",
              "      <td>-25</td>\n",
              "      <td>-69</td>\n",
              "      <td>-65</td>\n",
              "      <td>-44</td>\n",
              "      <td>-33</td>\n",
              "      <td>-57</td>\n",
              "      <td>-88</td>\n",
              "      <td>-114</td>\n",
              "      <td>-130</td>\n",
              "      <td>-114</td>\n",
              "      <td>-83</td>\n",
              "      <td>-53</td>\n",
              "      <td>-79</td>\n",
              "      <td>-72</td>\n",
              "      <td>-85</td>\n",
              "      <td>-109</td>\n",
              "      <td>-98</td>\n",
              "      <td>-72</td>\n",
              "      <td>-65</td>\n",
              "      <td>-63</td>\n",
              "      <td>-11</td>\n",
              "      <td>10</td>\n",
              "      <td>8</td>\n",
              "      <td>-17</td>\n",
              "      <td>-15</td>\n",
              "      <td>-31</td>\n",
              "      <td>-77</td>\n",
              "      <td>-103</td>\n",
              "      <td>-127</td>\n",
              "      <td>-116</td>\n",
              "      <td>-83</td>\n",
              "      <td>-51</td>\n",
              "      <td>4</td>\n",
              "    </tr>\n",
              "    <tr>\n",
              "      <th>1</th>\n",
              "      <td>X15.V1.924</td>\n",
              "      <td>386</td>\n",
              "      <td>382</td>\n",
              "      <td>356</td>\n",
              "      <td>331</td>\n",
              "      <td>320</td>\n",
              "      <td>315</td>\n",
              "      <td>307</td>\n",
              "      <td>272</td>\n",
              "      <td>244</td>\n",
              "      <td>232</td>\n",
              "      <td>237</td>\n",
              "      <td>258</td>\n",
              "      <td>212</td>\n",
              "      <td>2</td>\n",
              "      <td>-267</td>\n",
              "      <td>-605</td>\n",
              "      <td>-850</td>\n",
              "      <td>-1001</td>\n",
              "      <td>-1109</td>\n",
              "      <td>-1090</td>\n",
              "      <td>-967</td>\n",
              "      <td>-746</td>\n",
              "      <td>-464</td>\n",
              "      <td>-152</td>\n",
              "      <td>118</td>\n",
              "      <td>318</td>\n",
              "      <td>427</td>\n",
              "      <td>473</td>\n",
              "      <td>485</td>\n",
              "      <td>447</td>\n",
              "      <td>397</td>\n",
              "      <td>339</td>\n",
              "      <td>312</td>\n",
              "      <td>314</td>\n",
              "      <td>326</td>\n",
              "      <td>335</td>\n",
              "      <td>332</td>\n",
              "      <td>324</td>\n",
              "      <td>310</td>\n",
              "      <td>...</td>\n",
              "      <td>27</td>\n",
              "      <td>146</td>\n",
              "      <td>229</td>\n",
              "      <td>269</td>\n",
              "      <td>297</td>\n",
              "      <td>307</td>\n",
              "      <td>303</td>\n",
              "      <td>305</td>\n",
              "      <td>306</td>\n",
              "      <td>307</td>\n",
              "      <td>280</td>\n",
              "      <td>231</td>\n",
              "      <td>159</td>\n",
              "      <td>85</td>\n",
              "      <td>51</td>\n",
              "      <td>43</td>\n",
              "      <td>62</td>\n",
              "      <td>63</td>\n",
              "      <td>63</td>\n",
              "      <td>69</td>\n",
              "      <td>89</td>\n",
              "      <td>123</td>\n",
              "      <td>136</td>\n",
              "      <td>127</td>\n",
              "      <td>102</td>\n",
              "      <td>95</td>\n",
              "      <td>105</td>\n",
              "      <td>131</td>\n",
              "      <td>163</td>\n",
              "      <td>168</td>\n",
              "      <td>164</td>\n",
              "      <td>150</td>\n",
              "      <td>146</td>\n",
              "      <td>152</td>\n",
              "      <td>157</td>\n",
              "      <td>156</td>\n",
              "      <td>154</td>\n",
              "      <td>143</td>\n",
              "      <td>129</td>\n",
              "      <td>1</td>\n",
              "    </tr>\n",
              "    <tr>\n",
              "      <th>2</th>\n",
              "      <td>X8.V1.1</td>\n",
              "      <td>-32</td>\n",
              "      <td>-39</td>\n",
              "      <td>-47</td>\n",
              "      <td>-37</td>\n",
              "      <td>-32</td>\n",
              "      <td>-36</td>\n",
              "      <td>-57</td>\n",
              "      <td>-73</td>\n",
              "      <td>-85</td>\n",
              "      <td>-94</td>\n",
              "      <td>-99</td>\n",
              "      <td>-94</td>\n",
              "      <td>-96</td>\n",
              "      <td>-104</td>\n",
              "      <td>-103</td>\n",
              "      <td>-92</td>\n",
              "      <td>-75</td>\n",
              "      <td>-69</td>\n",
              "      <td>-69</td>\n",
              "      <td>-53</td>\n",
              "      <td>-37</td>\n",
              "      <td>-14</td>\n",
              "      <td>-10</td>\n",
              "      <td>-39</td>\n",
              "      <td>-78</td>\n",
              "      <td>-102</td>\n",
              "      <td>-98</td>\n",
              "      <td>-80</td>\n",
              "      <td>-54</td>\n",
              "      <td>-40</td>\n",
              "      <td>-35</td>\n",
              "      <td>-39</td>\n",
              "      <td>-32</td>\n",
              "      <td>-13</td>\n",
              "      <td>7</td>\n",
              "      <td>34</td>\n",
              "      <td>41</td>\n",
              "      <td>33</td>\n",
              "      <td>6</td>\n",
              "      <td>...</td>\n",
              "      <td>-82</td>\n",
              "      <td>-107</td>\n",
              "      <td>-126</td>\n",
              "      <td>-124</td>\n",
              "      <td>-108</td>\n",
              "      <td>-84</td>\n",
              "      <td>-68</td>\n",
              "      <td>-61</td>\n",
              "      <td>-56</td>\n",
              "      <td>-63</td>\n",
              "      <td>-62</td>\n",
              "      <td>-33</td>\n",
              "      <td>1</td>\n",
              "      <td>28</td>\n",
              "      <td>45</td>\n",
              "      <td>37</td>\n",
              "      <td>48</td>\n",
              "      <td>62</td>\n",
              "      <td>80</td>\n",
              "      <td>66</td>\n",
              "      <td>23</td>\n",
              "      <td>-11</td>\n",
              "      <td>-39</td>\n",
              "      <td>-44</td>\n",
              "      <td>-42</td>\n",
              "      <td>-45</td>\n",
              "      <td>-48</td>\n",
              "      <td>-42</td>\n",
              "      <td>-6</td>\n",
              "      <td>29</td>\n",
              "      <td>57</td>\n",
              "      <td>64</td>\n",
              "      <td>48</td>\n",
              "      <td>19</td>\n",
              "      <td>-12</td>\n",
              "      <td>-30</td>\n",
              "      <td>-35</td>\n",
              "      <td>-35</td>\n",
              "      <td>-36</td>\n",
              "      <td>5</td>\n",
              "    </tr>\n",
              "    <tr>\n",
              "      <th>3</th>\n",
              "      <td>X16.V1.60</td>\n",
              "      <td>-105</td>\n",
              "      <td>-101</td>\n",
              "      <td>-96</td>\n",
              "      <td>-92</td>\n",
              "      <td>-89</td>\n",
              "      <td>-95</td>\n",
              "      <td>-102</td>\n",
              "      <td>-100</td>\n",
              "      <td>-87</td>\n",
              "      <td>-79</td>\n",
              "      <td>-72</td>\n",
              "      <td>-68</td>\n",
              "      <td>-74</td>\n",
              "      <td>-80</td>\n",
              "      <td>-83</td>\n",
              "      <td>-73</td>\n",
              "      <td>-68</td>\n",
              "      <td>-61</td>\n",
              "      <td>-58</td>\n",
              "      <td>-59</td>\n",
              "      <td>-64</td>\n",
              "      <td>-79</td>\n",
              "      <td>-84</td>\n",
              "      <td>-97</td>\n",
              "      <td>-94</td>\n",
              "      <td>-84</td>\n",
              "      <td>-77</td>\n",
              "      <td>-75</td>\n",
              "      <td>-72</td>\n",
              "      <td>-68</td>\n",
              "      <td>-76</td>\n",
              "      <td>-76</td>\n",
              "      <td>-72</td>\n",
              "      <td>-67</td>\n",
              "      <td>-69</td>\n",
              "      <td>-69</td>\n",
              "      <td>-69</td>\n",
              "      <td>-67</td>\n",
              "      <td>-68</td>\n",
              "      <td>...</td>\n",
              "      <td>-69</td>\n",
              "      <td>-66</td>\n",
              "      <td>-74</td>\n",
              "      <td>-69</td>\n",
              "      <td>-61</td>\n",
              "      <td>-51</td>\n",
              "      <td>-45</td>\n",
              "      <td>-45</td>\n",
              "      <td>-49</td>\n",
              "      <td>-58</td>\n",
              "      <td>-64</td>\n",
              "      <td>-78</td>\n",
              "      <td>-80</td>\n",
              "      <td>-90</td>\n",
              "      <td>-87</td>\n",
              "      <td>-83</td>\n",
              "      <td>-78</td>\n",
              "      <td>-64</td>\n",
              "      <td>-38</td>\n",
              "      <td>-22</td>\n",
              "      <td>-29</td>\n",
              "      <td>-42</td>\n",
              "      <td>-51</td>\n",
              "      <td>-68</td>\n",
              "      <td>-71</td>\n",
              "      <td>-69</td>\n",
              "      <td>-69</td>\n",
              "      <td>-74</td>\n",
              "      <td>-74</td>\n",
              "      <td>-80</td>\n",
              "      <td>-82</td>\n",
              "      <td>-81</td>\n",
              "      <td>-80</td>\n",
              "      <td>-77</td>\n",
              "      <td>-85</td>\n",
              "      <td>-77</td>\n",
              "      <td>-72</td>\n",
              "      <td>-69</td>\n",
              "      <td>-65</td>\n",
              "      <td>5</td>\n",
              "    </tr>\n",
              "    <tr>\n",
              "      <th>4</th>\n",
              "      <td>X20.V1.54</td>\n",
              "      <td>-9</td>\n",
              "      <td>-65</td>\n",
              "      <td>-98</td>\n",
              "      <td>-102</td>\n",
              "      <td>-78</td>\n",
              "      <td>-48</td>\n",
              "      <td>-16</td>\n",
              "      <td>0</td>\n",
              "      <td>-21</td>\n",
              "      <td>-59</td>\n",
              "      <td>-90</td>\n",
              "      <td>-103</td>\n",
              "      <td>-84</td>\n",
              "      <td>-43</td>\n",
              "      <td>-9</td>\n",
              "      <td>3</td>\n",
              "      <td>-21</td>\n",
              "      <td>-60</td>\n",
              "      <td>-96</td>\n",
              "      <td>-103</td>\n",
              "      <td>-75</td>\n",
              "      <td>-29</td>\n",
              "      <td>14</td>\n",
              "      <td>55</td>\n",
              "      <td>78</td>\n",
              "      <td>73</td>\n",
              "      <td>28</td>\n",
              "      <td>-13</td>\n",
              "      <td>-43</td>\n",
              "      <td>-68</td>\n",
              "      <td>-78</td>\n",
              "      <td>-75</td>\n",
              "      <td>-55</td>\n",
              "      <td>-41</td>\n",
              "      <td>-19</td>\n",
              "      <td>-20</td>\n",
              "      <td>-29</td>\n",
              "      <td>-36</td>\n",
              "      <td>-20</td>\n",
              "      <td>...</td>\n",
              "      <td>38</td>\n",
              "      <td>26</td>\n",
              "      <td>10</td>\n",
              "      <td>-4</td>\n",
              "      <td>-13</td>\n",
              "      <td>-8</td>\n",
              "      <td>0</td>\n",
              "      <td>10</td>\n",
              "      <td>19</td>\n",
              "      <td>29</td>\n",
              "      <td>57</td>\n",
              "      <td>63</td>\n",
              "      <td>45</td>\n",
              "      <td>7</td>\n",
              "      <td>-13</td>\n",
              "      <td>-23</td>\n",
              "      <td>-9</td>\n",
              "      <td>9</td>\n",
              "      <td>11</td>\n",
              "      <td>3</td>\n",
              "      <td>-1</td>\n",
              "      <td>-2</td>\n",
              "      <td>4</td>\n",
              "      <td>18</td>\n",
              "      <td>27</td>\n",
              "      <td>27</td>\n",
              "      <td>14</td>\n",
              "      <td>15</td>\n",
              "      <td>11</td>\n",
              "      <td>10</td>\n",
              "      <td>4</td>\n",
              "      <td>2</td>\n",
              "      <td>-12</td>\n",
              "      <td>-32</td>\n",
              "      <td>-41</td>\n",
              "      <td>-65</td>\n",
              "      <td>-83</td>\n",
              "      <td>-89</td>\n",
              "      <td>-73</td>\n",
              "      <td>5</td>\n",
              "    </tr>\n",
              "  </tbody>\n",
              "</table>\n",
              "<p>5 rows × 180 columns</p>\n",
              "</div>"
            ],
            "text/plain": [
              "   Unnamed: 0   X1   X2   X3   X4   X5  ...  X174  X175  X176  X177  X178  y\n",
              "0  X21.V1.791  135  190  229  223  192  ...  -103  -127  -116   -83   -51  4\n",
              "1  X15.V1.924  386  382  356  331  320  ...   157   156   154   143   129  1\n",
              "2     X8.V1.1  -32  -39  -47  -37  -32  ...   -12   -30   -35   -35   -36  5\n",
              "3   X16.V1.60 -105 -101  -96  -92  -89  ...   -85   -77   -72   -69   -65  5\n",
              "4   X20.V1.54   -9  -65  -98 -102  -78  ...   -41   -65   -83   -89   -73  5\n",
              "\n",
              "[5 rows x 180 columns]"
            ]
          },
          "metadata": {},
          "execution_count": 63
        }
      ]
    },
    {
      "cell_type": "code",
      "metadata": {
        "id": "aoJFE73yZNr8"
      },
      "source": [
        "X=df.values"
      ],
      "execution_count": null,
      "outputs": []
    },
    {
      "cell_type": "code",
      "metadata": {
        "id": "JLe9Pcn3ZNr8"
      },
      "source": [
        "X=X[:,1:-1]"
      ],
      "execution_count": null,
      "outputs": []
    },
    {
      "cell_type": "code",
      "metadata": {
        "id": "md_TdpnXZNr8"
      },
      "source": [
        "from sklearn.model_selection import train_test_split\n",
        "\n",
        "\n",
        "y=np.array(df['y'])\n",
        "Y=np_utils.to_categorical(y)\n",
        "Y.shape\n",
        "X_train, X_test, Y_train, Y_test = train_test_split(X, Y, test_size=0.20, random_state=1)\n",
        "X_train= np.asarray(X_train).astype(np.float32)\n",
        "X_test= np.asarray(X_test).astype(np.float32)\n",
        "Y_train= np.asarray(Y_train).astype(np.float32)\n",
        "Y_test= np.asarray(Y_test).astype(np.float32)"
      ],
      "execution_count": null,
      "outputs": []
    },
    {
      "cell_type": "code",
      "metadata": {
        "colab": {
          "base_uri": "https://localhost:8080/"
        },
        "id": "yYAecsaAZNr8",
        "outputId": "e0e81ca1-f395-4e22-a849-f0bb5ad8f4e1"
      },
      "source": [
        "X_train = X_train.reshape(-1,178,1)\n",
        "X_test = X_test.reshape(-1,178,1)\n",
        "\n",
        "\n",
        "X_train.shape\n",
        "X_test.shape"
      ],
      "execution_count": null,
      "outputs": [
        {
          "output_type": "execute_result",
          "data": {
            "text/plain": [
              "(2300, 178, 1)"
            ]
          },
          "metadata": {},
          "execution_count": 67
        }
      ]
    },
    {
      "cell_type": "markdown",
      "metadata": {
        "id": "i21rgzNVZNr9"
      },
      "source": [
        "#  Intuition of the Epileptical Signal In the Dataset "
      ]
    },
    {
      "cell_type": "code",
      "metadata": {
        "colab": {
          "base_uri": "https://localhost:8080/",
          "height": 483
        },
        "id": "Wzz4WSDNZNr9",
        "outputId": "11f25787-2ebc-4341-f817-f53f3d585e43"
      },
      "source": [
        "plt.figure(figsize=(12,8))\n",
        "plt.plot(X[1,:],label='1')\n",
        "plt.plot(X[7,:],label='2')\n",
        "plt.plot(X[12,:],label='3')\n",
        "plt.plot(X[0,:],label='4')\n",
        "plt.plot(X[2,:],label='5')\n",
        "plt.legend()\n",
        "plt.show()"
      ],
      "execution_count": null,
      "outputs": [
        {
          "output_type": "display_data",
          "data": {
            "image/png": "[encoded data removed]",
            "text/plain": [
              "<Figure size 864x576 with 1 Axes>"
            ]
          },
          "metadata": {
            "needs_background": "light"
          }
        }
      ]
    },
    {
      "cell_type": "markdown",
      "metadata": {
        "id": "HVEcAuSfZNr9"
      },
      "source": [
        "# Creating LSTM Neural Network For the Classification "
      ]
    },
    {
      "cell_type": "code",
      "metadata": {
        "colab": {
          "base_uri": "https://localhost:8080/"
        },
        "id": "2TL2yJm_ZNr-",
        "outputId": "8fa08f30-d4e5-4658-e166-ad728c52d119"
      },
      "source": [
        "model = Sequential()\n",
        "model.add(LSTM(56, input_shape=(45,1), return_sequences=True))\n",
        "model.add(Dropout(0.3))\n",
        "model.add(LSTM(56))\n",
        "model.add(Dropout(0.3))\n",
        "model.add(Dense(20))\n",
        "model.add(Activation('tanh'))\n",
        "model.add(Dense(5))\n",
        "model.add(Activation('softmax'))\n",
        "\n",
        "model.summary()"
      ],
      "execution_count": null,
      "outputs": [
        {
          "output_type": "stream",
          "name": "stdout",
          "text": [
            "Model: \"sequential_4\"\n",
            "_________________________________________________________________\n",
            "Layer (type)                 Output Shape              Param #   \n",
            "=================================================================\n",
            "lstm_8 (LSTM)                (None, 45, 56)            12992     \n",
            "_________________________________________________________________\n",
            "dropout_8 (Dropout)          (None, 45, 56)            0         \n",
            "_________________________________________________________________\n",
            "lstm_9 (LSTM)                (None, 56)                25312     \n",
            "_________________________________________________________________\n",
            "dropout_9 (Dropout)          (None, 56)                0         \n",
            "_________________________________________________________________\n",
            "dense_8 (Dense)              (None, 20)                1140      \n",
            "_________________________________________________________________\n",
            "activation_8 (Activation)    (None, 20)                0         \n",
            "_________________________________________________________________\n",
            "dense_9 (Dense)              (None, 5)                 105       \n",
            "_________________________________________________________________\n",
            "activation_9 (Activation)    (None, 5)                 0         \n",
            "=================================================================\n",
            "Total params: 39,549\n",
            "Trainable params: 39,549\n",
            "Non-trainable params: 0\n",
            "_________________________________________________________________\n"
          ]
        }
      ]
    },
    {
      "cell_type": "code",
      "metadata": {
        "id": "Er-IawD0ZNr-"
      },
      "source": [
        "model.compile(optimizer='adam',loss='binary_crossentropy',  metrics=['accuracy'])"
      ],
      "execution_count": null,
      "outputs": []
    },
    {
      "cell_type": "code",
      "metadata": {
        "scrolled": true,
        "colab": {
          "base_uri": "https://localhost:8080/"
        },
        "id": "_8eCTqIfZNr-",
        "outputId": "909f8dce-81cc-44b2-be9f-390f74bf2a05"
      },
      "source": [
        "hist = model.fit(((X_train[:,::4]-X_train.mean())/X_train.std()),Y_train[:,1:],validation_data=((X_test[:,::4]-X_test.mean())/X_test.std(),Y_test[:,1:]),epochs = 50, batch_size=15,shuffle=False)"
      ],
      "execution_count": null,
      "outputs": [
        {
          "output_type": "stream",
          "name": "stdout",
          "text": [
            "Epoch 1/50\n",
            "614/614 [==============================] - 69s 45ms/step - loss: 0.4246 - accuracy: 0.3733 - val_loss: 0.3880 - val_accuracy: 0.4539\n",
            "Epoch 2/50\n",
            "614/614 [==============================] - 27s 44ms/step - loss: 0.3799 - accuracy: 0.4454 - val_loss: 0.3781 - val_accuracy: 0.4657\n",
            "Epoch 3/50\n",
            "614/614 [==============================] - 27s 44ms/step - loss: 0.3739 - accuracy: 0.4629 - val_loss: 0.3681 - val_accuracy: 0.4809\n",
            "Epoch 4/50\n",
            "614/614 [==============================] - 27s 44ms/step - loss: 0.3536 - accuracy: 0.5099 - val_loss: 0.3306 - val_accuracy: 0.5352\n",
            "Epoch 5/50\n",
            "614/614 [==============================] - 27s 44ms/step - loss: 0.2967 - accuracy: 0.6092 - val_loss: 0.2598 - val_accuracy: 0.6683\n",
            "Epoch 6/50\n",
            "614/614 [==============================] - 27s 44ms/step - loss: 0.2630 - accuracy: 0.6501 - val_loss: 0.2476 - val_accuracy: 0.6722\n",
            "Epoch 7/50\n",
            "614/614 [==============================] - 27s 44ms/step - loss: 0.2472 - accuracy: 0.6733 - val_loss: 0.2416 - val_accuracy: 0.6904\n",
            "Epoch 8/50\n",
            "614/614 [==============================] - 27s 45ms/step - loss: 0.2413 - accuracy: 0.6752 - val_loss: 0.2380 - val_accuracy: 0.6935\n",
            "Epoch 9/50\n",
            "614/614 [==============================] - 27s 44ms/step - loss: 0.2341 - accuracy: 0.6873 - val_loss: 0.2385 - val_accuracy: 0.6874\n",
            "Epoch 10/50\n",
            "614/614 [==============================] - 27s 44ms/step - loss: 0.2326 - accuracy: 0.6878 - val_loss: 0.2305 - val_accuracy: 0.6996\n",
            "Epoch 11/50\n",
            "614/614 [==============================] - 27s 44ms/step - loss: 0.2296 - accuracy: 0.6904 - val_loss: 0.2297 - val_accuracy: 0.7026\n",
            "Epoch 12/50\n",
            "614/614 [==============================] - 28s 45ms/step - loss: 0.2249 - accuracy: 0.6996 - val_loss: 0.2292 - val_accuracy: 0.7013\n",
            "Epoch 13/50\n",
            "614/614 [==============================] - 27s 45ms/step - loss: 0.2225 - accuracy: 0.6954 - val_loss: 0.2254 - val_accuracy: 0.6991\n",
            "Epoch 14/50\n",
            "614/614 [==============================] - 28s 45ms/step - loss: 0.2203 - accuracy: 0.7021 - val_loss: 0.2301 - val_accuracy: 0.7013\n",
            "Epoch 15/50\n",
            "614/614 [==============================] - 27s 44ms/step - loss: 0.2192 - accuracy: 0.7047 - val_loss: 0.2270 - val_accuracy: 0.7017\n",
            "Epoch 16/50\n",
            "614/614 [==============================] - 27s 44ms/step - loss: 0.2168 - accuracy: 0.7092 - val_loss: 0.2263 - val_accuracy: 0.7043\n",
            "Epoch 17/50\n",
            "614/614 [==============================] - 27s 44ms/step - loss: 0.2131 - accuracy: 0.7170 - val_loss: 0.2268 - val_accuracy: 0.7100\n",
            "Epoch 18/50\n",
            "614/614 [==============================] - 27s 44ms/step - loss: 0.2121 - accuracy: 0.7196 - val_loss: 0.2302 - val_accuracy: 0.7035\n",
            "Epoch 19/50\n",
            "614/614 [==============================] - 27s 44ms/step - loss: 0.2103 - accuracy: 0.7235 - val_loss: 0.2335 - val_accuracy: 0.7030\n",
            "Epoch 20/50\n",
            "614/614 [==============================] - 27s 44ms/step - loss: 0.2075 - accuracy: 0.7254 - val_loss: 0.2250 - val_accuracy: 0.7183\n",
            "Epoch 21/50\n",
            "614/614 [==============================] - 27s 44ms/step - loss: 0.2053 - accuracy: 0.7284 - val_loss: 0.2247 - val_accuracy: 0.7117\n",
            "Epoch 22/50\n",
            "614/614 [==============================] - 27s 44ms/step - loss: 0.2051 - accuracy: 0.7293 - val_loss: 0.2189 - val_accuracy: 0.7222\n",
            "Epoch 23/50\n",
            "614/614 [==============================] - 27s 44ms/step - loss: 0.2021 - accuracy: 0.7382 - val_loss: 0.2212 - val_accuracy: 0.7170\n",
            "Epoch 24/50\n",
            "614/614 [==============================] - 27s 44ms/step - loss: 0.2004 - accuracy: 0.7376 - val_loss: 0.2197 - val_accuracy: 0.7139\n",
            "Epoch 25/50\n",
            "614/614 [==============================] - 27s 44ms/step - loss: 0.2007 - accuracy: 0.7423 - val_loss: 0.2188 - val_accuracy: 0.7148\n",
            "Epoch 26/50\n",
            "614/614 [==============================] - 27s 44ms/step - loss: 0.1972 - accuracy: 0.7439 - val_loss: 0.2235 - val_accuracy: 0.7183\n",
            "Epoch 27/50\n",
            "614/614 [==============================] - 27s 44ms/step - loss: 0.1968 - accuracy: 0.7448 - val_loss: 0.2218 - val_accuracy: 0.7257\n",
            "Epoch 28/50\n",
            "614/614 [==============================] - 27s 44ms/step - loss: 0.1934 - accuracy: 0.7517 - val_loss: 0.2276 - val_accuracy: 0.7178\n",
            "Epoch 29/50\n",
            "614/614 [==============================] - 27s 44ms/step - loss: 0.1907 - accuracy: 0.7623 - val_loss: 0.2210 - val_accuracy: 0.7243\n",
            "Epoch 30/50\n",
            "614/614 [==============================] - 27s 44ms/step - loss: 0.1886 - accuracy: 0.7636 - val_loss: 0.2214 - val_accuracy: 0.7196\n",
            "Epoch 31/50\n",
            "614/614 [==============================] - 27s 44ms/step - loss: 0.1876 - accuracy: 0.7617 - val_loss: 0.2163 - val_accuracy: 0.7287\n",
            "Epoch 32/50\n",
            "614/614 [==============================] - 27s 44ms/step - loss: 0.1850 - accuracy: 0.7695 - val_loss: 0.2205 - val_accuracy: 0.7261\n",
            "Epoch 33/50\n",
            "614/614 [==============================] - 27s 44ms/step - loss: 0.1855 - accuracy: 0.7658 - val_loss: 0.2211 - val_accuracy: 0.7300\n",
            "Epoch 34/50\n",
            "614/614 [==============================] - 27s 44ms/step - loss: 0.1825 - accuracy: 0.7743 - val_loss: 0.2208 - val_accuracy: 0.7357\n",
            "Epoch 35/50\n",
            "614/614 [==============================] - 27s 44ms/step - loss: 0.1817 - accuracy: 0.7777 - val_loss: 0.2165 - val_accuracy: 0.7430\n",
            "Epoch 36/50\n",
            "614/614 [==============================] - 27s 44ms/step - loss: 0.1784 - accuracy: 0.7829 - val_loss: 0.2221 - val_accuracy: 0.7248\n",
            "Epoch 37/50\n",
            "614/614 [==============================] - 27s 44ms/step - loss: 0.1781 - accuracy: 0.7832 - val_loss: 0.2177 - val_accuracy: 0.7422\n",
            "Epoch 38/50\n",
            "614/614 [==============================] - 27s 44ms/step - loss: 0.1722 - accuracy: 0.7926 - val_loss: 0.2243 - val_accuracy: 0.7357\n",
            "Epoch 39/50\n",
            "614/614 [==============================] - 27s 45ms/step - loss: 0.1732 - accuracy: 0.7892 - val_loss: 0.2196 - val_accuracy: 0.7348\n",
            "Epoch 40/50\n",
            "614/614 [==============================] - 27s 44ms/step - loss: 0.1728 - accuracy: 0.7900 - val_loss: 0.2205 - val_accuracy: 0.7330\n",
            "Epoch 41/50\n",
            "614/614 [==============================] - 27s 44ms/step - loss: 0.1704 - accuracy: 0.7935 - val_loss: 0.2311 - val_accuracy: 0.7330\n",
            "Epoch 42/50\n",
            "614/614 [==============================] - 27s 44ms/step - loss: 0.1709 - accuracy: 0.7968 - val_loss: 0.2174 - val_accuracy: 0.7426\n",
            "Epoch 43/50\n",
            "614/614 [==============================] - 27s 44ms/step - loss: 0.1665 - accuracy: 0.7985 - val_loss: 0.2204 - val_accuracy: 0.7417\n",
            "Epoch 44/50\n",
            "614/614 [==============================] - 27s 44ms/step - loss: 0.1630 - accuracy: 0.8073 - val_loss: 0.2271 - val_accuracy: 0.7365\n",
            "Epoch 45/50\n",
            "614/614 [==============================] - 27s 44ms/step - loss: 0.1627 - accuracy: 0.8097 - val_loss: 0.2206 - val_accuracy: 0.7443\n",
            "Epoch 46/50\n",
            "614/614 [==============================] - 27s 44ms/step - loss: 0.1593 - accuracy: 0.8091 - val_loss: 0.2183 - val_accuracy: 0.7396\n",
            "Epoch 47/50\n",
            "614/614 [==============================] - 27s 44ms/step - loss: 0.1600 - accuracy: 0.8118 - val_loss: 0.2218 - val_accuracy: 0.7430\n",
            "Epoch 48/50\n",
            "614/614 [==============================] - 27s 44ms/step - loss: 0.1557 - accuracy: 0.8174 - val_loss: 0.2267 - val_accuracy: 0.7430\n",
            "Epoch 49/50\n",
            "614/614 [==============================] - 27s 44ms/step - loss: 0.1533 - accuracy: 0.8210 - val_loss: 0.2296 - val_accuracy: 0.7448\n",
            "Epoch 50/50\n",
            "614/614 [==============================] - 27s 44ms/step - loss: 0.1560 - accuracy: 0.8205 - val_loss: 0.2230 - val_accuracy: 0.7409\n"
          ]
        }
      ]
    },
    {
      "cell_type": "markdown",
      "metadata": {
        "id": "8AafU44sZNr-"
      },
      "source": [
        "# Saving The Trained Model"
      ]
    },
    {
      "cell_type": "code",
      "metadata": {
        "id": "ebGT751BZNr_"
      },
      "source": [
        "model.save('Epilepsy.h5')"
      ],
      "execution_count": null,
      "outputs": []
    },
    {
      "cell_type": "markdown",
      "metadata": {
        "id": "4-SdqiHaZNr_"
      },
      "source": [
        "# Visualisations"
      ]
    },
    {
      "cell_type": "markdown",
      "metadata": {
        "id": "p6S7exhtZNr_"
      },
      "source": [
        "Graph Between Training Loss and Training Accuracy"
      ]
    },
    {
      "cell_type": "code",
      "metadata": {
        "colab": {
          "base_uri": "https://localhost:8080/",
          "height": 295
        },
        "id": "jOoB46bWZNr_",
        "outputId": "1ee930e3-0ee0-41e1-82bd-2a8c30cd48a3"
      },
      "source": [
        "plt.figure(0)\n",
        "plt.plot(hist.history['loss'],'g')\n",
        "plt.plot(hist.history['accuracy'],'r')\n",
        "plt.title('Graph b/w Training Loss and Training Accuracy')\n",
        "plt.ylabel('accuracy')\n",
        "plt.xlabel('epoch')\n",
        "plt.legend(['loss', 'accuracy'], loc='upper left')\n",
        "plt.show()"
      ],
      "execution_count": null,
      "outputs": [
        {
          "output_type": "display_data",
          "data": {
            "image/png": "[encoded data removed]",
            "text/plain": [
              "<Figure size 432x288 with 1 Axes>"
            ]
          },
          "metadata": {
            "needs_background": "light"
          }
        }
      ]
    },
    {
      "cell_type": "markdown",
      "metadata": {
        "id": "Lpok1adXZNsA"
      },
      "source": [
        "Graph Between Validation Loss Function and Validation Accuracy"
      ]
    },
    {
      "cell_type": "code",
      "metadata": {
        "scrolled": true,
        "colab": {
          "base_uri": "https://localhost:8080/",
          "height": 295
        },
        "id": "mmcyh4TEZNsA",
        "outputId": "0f6e6a9f-bebb-43bd-c7fd-7556458d20f3"
      },
      "source": [
        "plt.figure(0)\n",
        "plt.plot(hist.history['val_loss'],'b')\n",
        "plt.plot(hist.history['val_accuracy'],'black')\n",
        "plt.title('Graph b/w Validation Loss and Validation Accuracy')\n",
        "plt.ylabel('accuracy')\n",
        "plt.xlabel('epoch')\n",
        "plt.legend(['loss', 'accuracy'], loc='upper left')\n",
        "plt.show()\n",
        "plt.show()\n"
      ],
      "execution_count": null,
      "outputs": [
        {
          "output_type": "display_data",
          "data": {
            "image/png": "[encoded data removed]",
            "text/plain": [
              "<Figure size 432x288 with 1 Axes>"
            ]
          },
          "metadata": {
            "needs_background": "light"
          }
        }
      ]
    },
    {
      "cell_type": "code",
      "metadata": {
        "id": "JN_DxP9mZNsA",
        "colab": {
          "base_uri": "https://localhost:8080/",
          "height": 336
        },
        "outputId": "864b6466-977a-49cf-e3e3-e96d49dce1b8"
      },
      "source": [
        "pd.DataFrame(hist.history).plot(figsize=(8,5))\n",
        "plt.title('LSTM Model Accuracy Detailed')\n",
        "plt.show()\n"
      ],
      "execution_count": null,
      "outputs": [
        {
          "output_type": "display_data",
          "data": {
            "image/png": "[encoded data removed]",
            "text/plain": [
              "<Figure size 576x360 with 1 Axes>"
            ]
          },
          "metadata": {
            "needs_background": "light"
          }
        }
      ]
    }
  ]
}